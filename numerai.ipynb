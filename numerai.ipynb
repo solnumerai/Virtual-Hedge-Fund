{
 "cells": [
  {
   "cell_type": "markdown",
   "metadata": {},
   "source": [
    "# Numerai: Machine Learning Hedge Fond"
   ]
  },
  {
   "cell_type": "code",
   "execution_count": 1,
   "metadata": {
    "collapsed": true
   },
   "outputs": [],
   "source": [
    "from __future__ import print_function"
   ]
  },
  {
   "cell_type": "code",
   "execution_count": 2,
   "metadata": {
    "collapsed": true
   },
   "outputs": [],
   "source": [
    "import warnings\n",
    "\n",
    "# Disable warnings emitted by warnings.warn calls from different packages\n",
    "warnings.filterwarnings('ignore')"
   ]
  },
  {
   "cell_type": "code",
   "execution_count": 4,
   "metadata": {
    "collapsed": false
   },
   "outputs": [],
   "source": [
    "import numpy as np\n",
    "import pandas as pd\n",
    "import matplotlib.pyplot as plt\n",
    "import seaborn as sns\n",
    "\n",
    "from sklearn import datasets\n",
    "from sklearn import metrics\n",
    "from sklearn import preprocessing\n",
    "from sklearn import grid_search\n",
    "from sklearn import ensemble\n",
    "from sklearn import cross_validation\n",
    "from sklearn import feature_selection\n",
    "from sklearn import linear_model\n",
    "from sklearn import svm\n",
    "from sklearn.decomposition import PCA, KernelPCA\n",
    "from sklearn.discriminant_analysis import LinearDiscriminantAnalysis\n",
    "from sklearn.neighbors import KNeighborsClassifier\n",
    "from sklearn.naive_bayes import GaussianNB\n",
    "from sklearn.linear_model import LogisticRegression\n",
    "from sklearn.calibration import CalibratedClassifierCV\n",
    "from sklearn.pipeline import Pipeline, FeatureUnion\n",
    "\n",
    "import keras\n",
    "import theano\n",
    "import tensorflow as tf\n",
    "from tensorflow.contrib import learn\n",
    "\n",
    "from collections import OrderedDict\n",
    "import pickle\n",
    "import time"
   ]
  },
  {
   "cell_type": "code",
   "execution_count": 5,
   "metadata": {
    "collapsed": true
   },
   "outputs": [],
   "source": [
    "# t-SNE feature extraction\n",
    "import tsne"
   ]
  },
  {
   "cell_type": "code",
   "execution_count": 6,
   "metadata": {
    "collapsed": true
   },
   "outputs": [],
   "source": [
    "sns.set_context('notebook', font_scale=1.25)\n",
    "sns.set_style('darkgrid')"
   ]
  },
  {
   "cell_type": "code",
   "execution_count": 7,
   "metadata": {
    "collapsed": true
   },
   "outputs": [],
   "source": [
    "%matplotlib inline"
   ]
  },
  {
   "cell_type": "markdown",
   "metadata": {},
   "source": [
    "## Read data files and prepare train & test samples"
   ]
  },
  {
   "cell_type": "code",
   "execution_count": 8,
   "metadata": {
    "collapsed": false
   },
   "outputs": [],
   "source": [
    "# Data sets\n",
    "TRAINING_SET = 'numerai_datasets/numerai_training_data.csv'\n",
    "TEST_SET = 'numerai_datasets/numerai_tournament_data.csv'\n",
    "\n",
    "# Load datasets.\n",
    "training_set = pd.read_csv(TRAINING_SET)\n",
    "test_set = pd.read_csv(TEST_SET, index_col=0)"
   ]
  },
  {
   "cell_type": "code",
   "execution_count": 9,
   "metadata": {
    "collapsed": false
   },
   "outputs": [
    {
     "data": {
      "text/html": [
       "<div>\n",
       "<table border=\"1\" class=\"dataframe\">\n",
       "  <thead>\n",
       "    <tr style=\"text-align: right;\">\n",
       "      <th></th>\n",
       "      <th>feature1</th>\n",
       "      <th>feature2</th>\n",
       "      <th>feature3</th>\n",
       "      <th>feature4</th>\n",
       "      <th>feature5</th>\n",
       "      <th>feature6</th>\n",
       "      <th>feature7</th>\n",
       "      <th>feature8</th>\n",
       "      <th>feature9</th>\n",
       "      <th>feature10</th>\n",
       "      <th>...</th>\n",
       "      <th>feature13</th>\n",
       "      <th>feature14</th>\n",
       "      <th>feature15</th>\n",
       "      <th>feature16</th>\n",
       "      <th>feature17</th>\n",
       "      <th>feature18</th>\n",
       "      <th>feature19</th>\n",
       "      <th>feature20</th>\n",
       "      <th>feature21</th>\n",
       "      <th>target</th>\n",
       "    </tr>\n",
       "  </thead>\n",
       "  <tbody>\n",
       "    <tr>\n",
       "      <th>0</th>\n",
       "      <td>0.581007</td>\n",
       "      <td>0.908596</td>\n",
       "      <td>0.766110</td>\n",
       "      <td>0.844650</td>\n",
       "      <td>0.247000</td>\n",
       "      <td>0.600018</td>\n",
       "      <td>0.827638</td>\n",
       "      <td>0.726782</td>\n",
       "      <td>0.596622</td>\n",
       "      <td>0.383684</td>\n",
       "      <td>...</td>\n",
       "      <td>0.083463</td>\n",
       "      <td>0.537761</td>\n",
       "      <td>0.613012</td>\n",
       "      <td>0.672179</td>\n",
       "      <td>0.422369</td>\n",
       "      <td>0.727817</td>\n",
       "      <td>0.884887</td>\n",
       "      <td>0.267128</td>\n",
       "      <td>0.352174</td>\n",
       "      <td>1</td>\n",
       "    </tr>\n",
       "    <tr>\n",
       "      <th>1</th>\n",
       "      <td>0.050758</td>\n",
       "      <td>0.905095</td>\n",
       "      <td>0.966358</td>\n",
       "      <td>0.991736</td>\n",
       "      <td>0.637117</td>\n",
       "      <td>0.956871</td>\n",
       "      <td>0.804695</td>\n",
       "      <td>0.994215</td>\n",
       "      <td>0.967192</td>\n",
       "      <td>0.083801</td>\n",
       "      <td>...</td>\n",
       "      <td>0.054114</td>\n",
       "      <td>0.066266</td>\n",
       "      <td>0.715163</td>\n",
       "      <td>0.796705</td>\n",
       "      <td>0.826976</td>\n",
       "      <td>0.734355</td>\n",
       "      <td>0.805943</td>\n",
       "      <td>0.832481</td>\n",
       "      <td>0.659629</td>\n",
       "      <td>1</td>\n",
       "    </tr>\n",
       "    <tr>\n",
       "      <th>2</th>\n",
       "      <td>0.425571</td>\n",
       "      <td>0.691507</td>\n",
       "      <td>0.920220</td>\n",
       "      <td>0.594960</td>\n",
       "      <td>0.591689</td>\n",
       "      <td>0.525516</td>\n",
       "      <td>0.862749</td>\n",
       "      <td>0.549405</td>\n",
       "      <td>0.225714</td>\n",
       "      <td>0.333259</td>\n",
       "      <td>...</td>\n",
       "      <td>0.648824</td>\n",
       "      <td>0.407148</td>\n",
       "      <td>0.383214</td>\n",
       "      <td>0.478281</td>\n",
       "      <td>0.240681</td>\n",
       "      <td>0.937534</td>\n",
       "      <td>0.967276</td>\n",
       "      <td>0.483772</td>\n",
       "      <td>0.671841</td>\n",
       "      <td>0</td>\n",
       "    </tr>\n",
       "    <tr>\n",
       "      <th>3</th>\n",
       "      <td>0.458899</td>\n",
       "      <td>0.210681</td>\n",
       "      <td>0.118947</td>\n",
       "      <td>0.362672</td>\n",
       "      <td>0.243417</td>\n",
       "      <td>0.729953</td>\n",
       "      <td>0.010813</td>\n",
       "      <td>0.061358</td>\n",
       "      <td>0.879345</td>\n",
       "      <td>0.740620</td>\n",
       "      <td>...</td>\n",
       "      <td>0.474311</td>\n",
       "      <td>0.387113</td>\n",
       "      <td>0.763792</td>\n",
       "      <td>0.437354</td>\n",
       "      <td>0.876841</td>\n",
       "      <td>0.015405</td>\n",
       "      <td>0.006289</td>\n",
       "      <td>0.522826</td>\n",
       "      <td>0.564926</td>\n",
       "      <td>0</td>\n",
       "    </tr>\n",
       "    <tr>\n",
       "      <th>4</th>\n",
       "      <td>0.922149</td>\n",
       "      <td>0.414926</td>\n",
       "      <td>0.530944</td>\n",
       "      <td>0.656192</td>\n",
       "      <td>0.756348</td>\n",
       "      <td>0.678726</td>\n",
       "      <td>0.000730</td>\n",
       "      <td>0.400667</td>\n",
       "      <td>0.200305</td>\n",
       "      <td>0.854789</td>\n",
       "      <td>...</td>\n",
       "      <td>0.948615</td>\n",
       "      <td>0.972195</td>\n",
       "      <td>0.326792</td>\n",
       "      <td>0.643454</td>\n",
       "      <td>0.450616</td>\n",
       "      <td>0.081692</td>\n",
       "      <td>0.048362</td>\n",
       "      <td>0.456337</td>\n",
       "      <td>0.557026</td>\n",
       "      <td>0</td>\n",
       "    </tr>\n",
       "  </tbody>\n",
       "</table>\n",
       "<p>5 rows × 22 columns</p>\n",
       "</div>"
      ],
      "text/plain": [
       "   feature1  feature2  feature3  feature4  feature5  feature6  feature7  \\\n",
       "0  0.581007  0.908596  0.766110  0.844650  0.247000  0.600018  0.827638   \n",
       "1  0.050758  0.905095  0.966358  0.991736  0.637117  0.956871  0.804695   \n",
       "2  0.425571  0.691507  0.920220  0.594960  0.591689  0.525516  0.862749   \n",
       "3  0.458899  0.210681  0.118947  0.362672  0.243417  0.729953  0.010813   \n",
       "4  0.922149  0.414926  0.530944  0.656192  0.756348  0.678726  0.000730   \n",
       "\n",
       "   feature8  feature9  feature10   ...    feature13  feature14  feature15  \\\n",
       "0  0.726782  0.596622   0.383684   ...     0.083463   0.537761   0.613012   \n",
       "1  0.994215  0.967192   0.083801   ...     0.054114   0.066266   0.715163   \n",
       "2  0.549405  0.225714   0.333259   ...     0.648824   0.407148   0.383214   \n",
       "3  0.061358  0.879345   0.740620   ...     0.474311   0.387113   0.763792   \n",
       "4  0.400667  0.200305   0.854789   ...     0.948615   0.972195   0.326792   \n",
       "\n",
       "   feature16  feature17  feature18  feature19  feature20  feature21  target  \n",
       "0   0.672179   0.422369   0.727817   0.884887   0.267128   0.352174       1  \n",
       "1   0.796705   0.826976   0.734355   0.805943   0.832481   0.659629       1  \n",
       "2   0.478281   0.240681   0.937534   0.967276   0.483772   0.671841       0  \n",
       "3   0.437354   0.876841   0.015405   0.006289   0.522826   0.564926       0  \n",
       "4   0.643454   0.450616   0.081692   0.048362   0.456337   0.557026       0  \n",
       "\n",
       "[5 rows x 22 columns]"
      ]
     },
     "execution_count": 9,
     "metadata": {},
     "output_type": "execute_result"
    }
   ],
   "source": [
    "training_set.head()"
   ]
  },
  {
   "cell_type": "code",
   "execution_count": 10,
   "metadata": {
    "collapsed": false
   },
   "outputs": [
    {
     "data": {
      "image/png": "[encoded data removed]",
      "text/plain": [
       "<matplotlib.figure.Figure at 0x7fdba8329590>"
      ]
     },
     "metadata": {},
     "output_type": "display_data"
    }
   ],
   "source": [
    "# Predictivity\n",
    "pearson = training_set.corr('pearson')\n",
    "pearson.ix[-1][:-1].sort_values()\n",
    "# Correlation matrix as heatmap (seaborn)\n",
    "fig, ax = plt.subplots(figsize=(12,11))\n",
    "sns.heatmap(pearson, annot=True, annot_kws=dict(size=9), vmin=-1, vmax=1, ax=ax)\n",
    "plt.tight_layout()\n",
    "plt.show()"
   ]
  },
  {
   "cell_type": "code",
   "execution_count": 12,
   "metadata": {
    "collapsed": false
   },
   "outputs": [
    {
     "data": {
      "image/png": "[encoded data removed]",
      "text/plain": [
       "<matplotlib.figure.Figure at 0x7fdb1c600d90>"
      ]
     },
     "metadata": {},
     "output_type": "display_data"
    }
   ],
   "source": [
    "plt.hist(training_set['feature1']);"
   ]
  },
  {
   "cell_type": "code",
   "execution_count": 14,
   "metadata": {
    "collapsed": false
   },
   "outputs": [
    {
     "data": {
      "image/png": "[encoded data removed]",
      "text/plain": [
       "<matplotlib.figure.Figure at 0x7fdb1c3e8990>"
      ]
     },
     "metadata": {},
     "output_type": "display_data"
    }
   ],
   "source": [
    "# Autocorrelation\n",
    "pd.tools.plotting.lag_plot(training_set['feature1']);"
   ]
  },
  {
   "cell_type": "code",
   "execution_count": 15,
   "metadata": {
    "collapsed": false
   },
   "outputs": [
    {
     "data": {
      "text/plain": [
       "(0, 100)"
      ]
     },
     "execution_count": 15,
     "metadata": {},
     "output_type": "execute_result"
    },
    {
     "data": {
      "image/png": "[encoded data removed]",
      "text/plain": [
       "<matplotlib.figure.Figure at 0x7fdb1c3244d0>"
      ]
     },
     "metadata": {},
     "output_type": "display_data"
    }
   ],
   "source": [
    "ax = pd.tools.plotting.autocorrelation_plot(training_set['feature1'])\n",
    "ax.set_ylim(-0.02, 0.02)\n",
    "ax.set_xlim(0,100)"
   ]
  },
  {
   "cell_type": "code",
   "execution_count": 16,
   "metadata": {
    "collapsed": false
   },
   "outputs": [
    {
     "data": {
      "text/plain": [
       "<matplotlib.axes._subplots.AxesSubplot at 0x7fdb1c2c3b50>"
      ]
     },
     "execution_count": 16,
     "metadata": {},
     "output_type": "execute_result"
    },
    {
     "data": {
      "image/png": "[encoded data removed]",
      "text/plain": [
       "<matplotlib.figure.Figure at 0x7fdb1c279ed0>"
      ]
     },
     "metadata": {},
     "output_type": "display_data"
    }
   ],
   "source": [
    "plt.figure(figsize=(8,8))\n",
    "pd.tools.plotting.radviz(training_set, 'target')"
   ]
  },
  {
   "cell_type": "code",
   "execution_count": null,
   "metadata": {
    "collapsed": false
   },
   "outputs": [],
   "source": [
    "# Reverse dataset order (by index) to use latest data points\n",
    "# Training dataset\n",
    "training_set = training_set.iloc[::-1]\n",
    "# Prediction dataset (tournament)\n",
    "test_set = test_set.iloc[::-1];"
   ]
  },
  {
   "cell_type": "markdown",
   "metadata": {},
   "source": [
    "## Train test dataset split"
   ]
  },
  {
   "cell_type": "code",
   "execution_count": 18,
   "metadata": {
    "collapsed": false
   },
   "outputs": [
    {
     "name": "stdout",
     "output_type": "stream",
     "text": [
      "(96320, 21)\n",
      "(96320,)\n"
     ]
    }
   ],
   "source": [
    "# Training dataset\n",
    "X_data = training_set.ix[:,0:21].values\n",
    "print(X_data.shape)\n",
    "y_data = training_set['target'].values\n",
    "print(y_data.shape)"
   ]
  },
  {
   "cell_type": "code",
   "execution_count": 19,
   "metadata": {
    "collapsed": false
   },
   "outputs": [
    {
     "name": "stdout",
     "output_type": "stream",
     "text": [
      "(135281, 21)\n"
     ]
    }
   ],
   "source": [
    "# Prediction dataset\n",
    "X_predict = test_set.values\n",
    "print(X_predict.shape)"
   ]
  },
  {
   "cell_type": "markdown",
   "metadata": {},
   "source": [
    "#### A) Split data while preserve ordering (time-series data?)"
   ]
  },
  {
   "cell_type": "code",
   "execution_count": null,
   "metadata": {
    "collapsed": false
   },
   "outputs": [],
   "source": [
    "# Split dataset into training and test sets (preserve ordering)\n",
    "percent = 0.85\n",
    "split = int(percent*X_data.shape[0])\n",
    "X_train = X_data[:split,:]\n",
    "y_train = y_data[:split]\n",
    "X_test = X_data[split:,:]\n",
    "y_test = y_data[split:]\n",
    "print(X_train.shape)\n",
    "print(y_train.shape)\n",
    "print(X_test.shape)\n",
    "print(y_test.shape)"
   ]
  },
  {
   "cell_type": "markdown",
   "metadata": {},
   "source": [
    "#### B) Split data using random ordering "
   ]
  },
  {
   "cell_type": "code",
   "execution_count": 20,
   "metadata": {
    "collapsed": false
   },
   "outputs": [],
   "source": [
    "# Split data into train and test samples (random ordering)\n",
    "X_train, X_test, y_train, y_test = cross_validation.train_test_split(X_data, y_data, train_size=0.8)"
   ]
  },
  {
   "cell_type": "markdown",
   "metadata": {},
   "source": [
    "### Feature engineering"
   ]
  },
  {
   "cell_type": "markdown",
   "metadata": {},
   "source": [
    "#### A) Enginner new features using PCA & LDA"
   ]
  },
  {
   "cell_type": "code",
   "execution_count": null,
   "metadata": {
    "collapsed": false
   },
   "outputs": [],
   "source": [
    "# Select best features using principal component analysis\n",
    "pca = PCA(n_components=4)\n",
    "lda = LinearDiscriminantAnalysis(n_components=2)\n",
    "# Make a union of features\n",
    "union = FeatureUnion([('LDA',lda), ('PCA',pca)])\n",
    "# Note: This 'union' can be used in Pipeline with any classifier \n",
    "#       (see below an example with Logistic regression)"
   ]
  },
  {
   "cell_type": "code",
   "execution_count": null,
   "metadata": {
    "collapsed": false
   },
   "outputs": [],
   "source": [
    "# Alternative: Instead of using FeatureUnion in Pipeline, it can\n",
    "# be used to transform the train, test and validate data sets\n",
    "union_transform = union.fit(X_train, y_train)\n",
    "X_train_best = union_transform.transform(X_train)\n",
    "X_test_best = union_transform.transform(X_test)\n",
    "X_predict_best = union_transform.transform(X_predict)\n",
    "X_train_best.shape"
   ]
  },
  {
   "cell_type": "markdown",
   "metadata": {},
   "source": [
    "#### B) Engineer new features using t-SNE"
   ]
  },
  {
   "cell_type": "code",
   "execution_count": null,
   "metadata": {
    "collapsed": true
   },
   "outputs": [],
   "source": [
    "# t-SNE can be used with different 'no_dims' and 'perplexity' values\n",
    "# providing different features each time (that can be stacked together)\n",
    "X_train_tsne = tsne.tsne(X_train, no_dims=2, perplexity=30)  # perplexity=30 is default\n",
    "X_test_tsne = tsne.tsne(X_test, no_dims=2, perplexity=30)\n",
    "X_predict_tsne = tsne.tsne(X_predict, no_dims=2, perplexity=30)"
   ]
  },
  {
   "cell_type": "code",
   "execution_count": null,
   "metadata": {
    "collapsed": true
   },
   "outputs": [],
   "source": [
    "# Stack original features with t-SNE features\n",
    "X_train = np.c_[X_train, X_train_tsne]\n",
    "X_test = np.c_[X_test, X_test_tsne]\n",
    "X_predict = np.c_[X_predict, X_predict_tsne]\n",
    "X_train.shape"
   ]
  },
  {
   "cell_type": "markdown",
   "metadata": {},
   "source": [
    "#### C) Feature interactions"
   ]
  },
  {
   "cell_type": "code",
   "execution_count": null,
   "metadata": {
    "collapsed": false
   },
   "outputs": [],
   "source": [
    "# Feature interactions on ***principal component features***\n",
    "interactions = preprocessing.PolynomialFeatures(degree=2, interaction_only=True, include_bias=False)\n",
    "interactions.fit(X_train_best, y_train)\n",
    "X_train_interact = interactions.transform(X_train_best)\n",
    "X_test_interact = interactions.transform(X_test_best)\n",
    "X_predict_interact = interactions.transform(X_predict_best)"
   ]
  },
  {
   "cell_type": "code",
   "execution_count": null,
   "metadata": {
    "collapsed": false
   },
   "outputs": [],
   "source": [
    "# Stack engineered features with the original ones\n",
    "X_train = np.c_[X_train, X_train_interact]\n",
    "X_test = np.c_[X_test, X_test_interact]\n",
    "X_train.shape"
   ]
  },
  {
   "cell_type": "code",
   "execution_count": null,
   "metadata": {
    "collapsed": false
   },
   "outputs": [],
   "source": [
    "# Feature interactions using several ***best original features***\n",
    "k_best = feature_selection.SelectKBest(feature_selection.chi2, k=4)  # 4 'best' features\n",
    "k_best.fit(X_train, y_train)\n",
    "X_best_train = k_best.transform(X_train)\n",
    "X_best_test = k_best.transform(X_test)\n",
    "X_best_pred = k_best.transform(X_predict)\n",
    "# build polynomial features (only interactions)\n",
    "interactions = preprocessing.PolynomialFeatures(degree=2, interaction_only=True, include_bias=False)\n",
    "interactions.fit(X_best_train, y_train)\n",
    "X_best_train_inter = interactions.transform(X_best_train)[:,4:]\n",
    "X_best_test_inter = interactions.transform(X_best_test)[:,4:]\n",
    "X_best_pred_inter = interactions.transform(X_best_pred)[:,4:]\n",
    "X_best_train_inter.shape"
   ]
  },
  {
   "cell_type": "code",
   "execution_count": null,
   "metadata": {
    "collapsed": true
   },
   "outputs": [],
   "source": [
    "# NOTE: Some of the individual classifiers (in the first stage) can be trained \n",
    "# on data with extra features and some can be train on the original data set.\n",
    "# In order to do this, original data sets should NOT be overwritten with new\n",
    "# features and feature interactions. Instead, new names should be used for the\n",
    "# 'extended' train (validation and test) datasets which include extra features."
   ]
  },
  {
   "cell_type": "markdown",
   "metadata": {},
   "source": [
    "#### D) Stack features"
   ]
  },
  {
   "cell_type": "code",
   "execution_count": null,
   "metadata": {
    "collapsed": false
   },
   "outputs": [],
   "source": [
    "# Stack engineered features with the original ones\n",
    "X_train = np.c_[X_train, X_best_train_inter]\n",
    "X_test = np.c_[X_test, X_best_test_inter]\n",
    "X_predict = np.c_[X_predict, X_best_pred_inter]"
   ]
  },
  {
   "cell_type": "code",
   "execution_count": null,
   "metadata": {
    "collapsed": false
   },
   "outputs": [],
   "source": [
    "# Stack original features with principal component features and feature interactions\n",
    "X_train = np.c_[X_train, X_train_best, X_best_train_inter]\n",
    "X_test = np.c_[X_test, X_test_best, X_best_test_inter]\n",
    "X_predict = np.c_[X_predict, X_predict_best, X_best_pred_inter]\n",
    "X_train.shape"
   ]
  },
  {
   "cell_type": "markdown",
   "metadata": {},
   "source": [
    "## Train individual classifiers"
   ]
  },
  {
   "cell_type": "markdown",
   "metadata": {},
   "source": [
    "### Keras Neural Network for Classification"
   ]
  },
  {
   "cell_type": "code",
   "execution_count": null,
   "metadata": {
    "collapsed": false
   },
   "outputs": [],
   "source": [
    "# NOTE: Needed only with the theano backend!\n",
    "theano.config.compute_test_value = 'ignore'"
   ]
  },
  {
   "cell_type": "markdown",
   "metadata": {},
   "source": [
    "#### A) Feed-forward network"
   ]
  },
  {
   "cell_type": "code",
   "execution_count": null,
   "metadata": {
    "collapsed": false
   },
   "outputs": [],
   "source": [
    "# Feed-forward neural network for classification\n",
    "model = keras.models.Sequential()\n",
    "\n",
    "# Input layer\n",
    "model.add(keras.layers.Dense(1024, input_dim=X_train.shape[1]))\n",
    "model.add(keras.layers.Activation('tanh'))\n",
    "model.add(keras.layers.Dropout(0.5))\n",
    "# hidden layer\n",
    "model.add(keras.layers.Dense(512, init='glorot_uniform'))\n",
    "model.add(keras.layers.Activation('tanh'))\n",
    "model.add(keras.layers.Dropout(0.5))\n",
    "# hidden layer\n",
    "model.add(keras.layers.Dense(256, init='glorot_uniform'))\n",
    "model.add(keras.layers.Activation('tanh'))\n",
    "model.add(keras.layers.Dropout(0.25))\n",
    "# hidden layer (delete)\n",
    "model.add(keras.layers.Dense(128, init='glorot_uniform'))\n",
    "model.add(keras.layers.Activation('tanh'))\n",
    "model.add(keras.layers.Dropout(0.25))\n",
    "# Output layer\n",
    "model.add(keras.layers.Dense(2, init='glorot_uniform'))\n",
    "model.add(keras.layers.Activation('softmax'))\n",
    "\n",
    "# Optimizer\n",
    "sgd = keras.optimizers.SGD(lr=0.01, momentum=0.9, decay=1e-2, nesterov=True)\n",
    "\n",
    "# Compile network\n",
    "model.compile(loss='binary_crossentropy', optimizer=sgd, metrics=['accuracy'])"
   ]
  },
  {
   "cell_type": "markdown",
   "metadata": {},
   "source": [
    "#### B) Recurrent neural network"
   ]
  },
  {
   "cell_type": "code",
   "execution_count": null,
   "metadata": {
    "collapsed": false
   },
   "outputs": [],
   "source": [
    "# Recurrent neural network for classification\n",
    "model = keras.models.Sequential()\n",
    "\n",
    "# Input layer\n",
    "layer = 'lstm'\n",
    "if layer == 'rnn':\n",
    "    # Recurrent layer\n",
    "    model.add(keras.layers.recurrent.SimpleRNN(1024, input_dim=X_train.shape[1], activation='tanh'))\n",
    "elif layer == 'lstm':\n",
    "    # Long-Short Term Memory layer\n",
    "    model.add(keras.layers.recurrent.LSTM(1024, input_dim=X_train.shape[1], activation='tanh'))\n",
    "\n",
    "hidden = False\n",
    "if hidden:\n",
    "    # add another dense hidden layer\n",
    "    model.add(keras.layers.Dense(512, activation='tanh'))\n",
    "    model.add(keras.layers.Dropout(0.5))\n",
    "\n",
    "# Output layer\n",
    "model.add(keras.layers.Dense(2))\n",
    "model.add(keras.layers.Activation('softmax'))\n",
    "\n",
    "# Optimizer\n",
    "sgd = keras.optimizers.SGD(lr=0.01, momentum=0.9, decay=1e-2, nesterov=True)\n",
    "\n",
    "# Compile network\n",
    "model.compile(loss='binary_crossentropy', optimizer=sgd, metrics=['accuracy'])"
   ]
  },
  {
   "cell_type": "code",
   "execution_count": null,
   "metadata": {
    "collapsed": false
   },
   "outputs": [],
   "source": [
    "# Reshape datasets for the recurrent network (see Keras documentation)\n",
    "X_train = np.reshape(X_train, (X_train.shape[0], 1, X_train.shape[1]))\n",
    "X_test = np.reshape(X_test, (X_test.shape[0], 1, X_test.shape[1]))"
   ]
  },
  {
   "cell_type": "markdown",
   "metadata": {},
   "source": [
    "#### Train the network and evaluate the score on test data (same code for both networks)"
   ]
  },
  {
   "cell_type": "code",
   "execution_count": null,
   "metadata": {
    "collapsed": true
   },
   "outputs": [],
   "source": [
    "BATCH = 512  # 'batch_size' argument"
   ]
  },
  {
   "cell_type": "code",
   "execution_count": null,
   "metadata": {
    "collapsed": true
   },
   "outputs": [],
   "source": [
    "# Encode 'targets' to categorical variables (2 categories: 0, 1)\n",
    "y_train_nn = keras.utils.np_utils.to_categorical(y_train)\n",
    "y_test_nn = keras.utils.np_utils.to_categorical(y_test)"
   ]
  },
  {
   "cell_type": "code",
   "execution_count": null,
   "metadata": {
    "collapsed": true
   },
   "outputs": [],
   "source": [
    "class LossHistory(keras.callbacks.Callback):\n",
    "    # For recording the training history (loss)\n",
    "    def on_train_begin(self, logs={}):\n",
    "        self.losses = []\n",
    "    def on_batch_end(self, batch, logs={}):\n",
    "        self.losses.append(logs.get('loss'))"
   ]
  },
  {
   "cell_type": "code",
   "execution_count": null,
   "metadata": {
    "collapsed": false
   },
   "outputs": [],
   "source": [
    "# Early stopping of training process (if no improvement)\n",
    "early_stop = keras.callbacks.EarlyStopping(monitor='val_loss', patience=10, verbose=1, mode='auto')\n",
    "\n",
    "# Record training history\n",
    "history = LossHistory()\n",
    "\n",
    "# Start time\n",
    "start_time = time.time()\n",
    "\n",
    "# Fit model on train data\n",
    "model.fit(X_train, y_train_nn, nb_epoch=200, batch_size=BATCH, callbacks=[early_stop, history],\n",
    "          validation_data=(X_test, y_test_nn), shuffle=False, verbose=0)\n",
    "\n",
    "# End time\n",
    "end_time = time.time()\n",
    "print('Execution time: {:g} seconds'.format(end_time - start_time))"
   ]
  },
  {
   "cell_type": "code",
   "execution_count": null,
   "metadata": {
    "collapsed": false
   },
   "outputs": [],
   "source": [
    "plt.figure(figsize=(7,5))\n",
    "plt.plot(history.losses[100::10])  # every 10th point from 100 to the end\n",
    "plt.show()"
   ]
  },
  {
   "cell_type": "code",
   "execution_count": null,
   "metadata": {
    "collapsed": false
   },
   "outputs": [],
   "source": [
    "# Score metrics (evaluate model on test data)\n",
    "score = model.evaluate(X_test, y_test_nn, batch_size=BATCH, verbose=1)\n",
    "print('\\nLog-loss: {:g}, Accuracy: {:.2f} %'.format(score[0], score[1]*100))"
   ]
  },
  {
   "cell_type": "code",
   "execution_count": null,
   "metadata": {
    "collapsed": false
   },
   "outputs": [],
   "source": [
    "# Predict class probability on test data\n",
    "y_pred_proba_nn = model.predict_proba(X_test, batch_size=BATCH)"
   ]
  },
  {
   "cell_type": "markdown",
   "metadata": {},
   "source": [
    "### Logistic Regression"
   ]
  },
  {
   "cell_type": "code",
   "execution_count": null,
   "metadata": {
    "collapsed": false,
    "scrolled": true
   },
   "outputs": [],
   "source": [
    "# Logistic regression\n",
    "logreg = LogisticRegression()\n",
    "# Grid search for optimal parameters\n",
    "params = {'C':[0.01, 0.1, 1.], 'penalty':['l1', 'l2']}\n",
    "grid = grid_search.GridSearchCV(estimator=logreg, param_grid=params, cv=3,\n",
    "                                scoring='log_loss', n_jobs=-1)\n",
    "grid.fit(X_train, y_train)\n",
    "best_params = grid.best_params_\n",
    "print(best_params)"
   ]
  },
  {
   "cell_type": "code",
   "execution_count": 23,
   "metadata": {
    "collapsed": false
   },
   "outputs": [
    {
     "name": "stdout",
     "output_type": "stream",
     "text": [
      "Log-loss: 0.691383\n"
     ]
    }
   ],
   "source": [
    "# Predict probability on test data\n",
    "y_pred_proba_logreg = grid.predict_proba(X_test)\n",
    "# Accuracy metrics (log-loss)\n",
    "logloss = metrics.log_loss(y_test, y_pred_proba_logreg)\n",
    "print('Log-loss: {:.6f}'.format(logloss))"
   ]
  },
  {
   "cell_type": "code",
   "execution_count": null,
   "metadata": {
    "collapsed": false
   },
   "outputs": [],
   "source": [
    "# Calibrated Logistic regression classifier\n",
    "grid_cal = CalibratedClassifierCV(grid, cv=2, method='isotonic')\n",
    "# Fit\n",
    "grid_cal.fit(X_train, y_train)"
   ]
  },
  {
   "cell_type": "code",
   "execution_count": null,
   "metadata": {
    "collapsed": false
   },
   "outputs": [],
   "source": [
    "# Predict probability on test data\n",
    "y_pred_proba_logreg = grid_cal.predict_proba(X_test)\n",
    "# Accuracy metrics (log-loss)\n",
    "logloss = metrics.log_loss(y_test, y_pred_proba_logreg)\n",
    "print('Log-loss: {:.6f}'.format(logloss))"
   ]
  },
  {
   "cell_type": "markdown",
   "metadata": {},
   "source": [
    "#### Logistic regression with selected features"
   ]
  },
  {
   "cell_type": "code",
   "execution_count": null,
   "metadata": {
    "collapsed": false
   },
   "outputs": [],
   "source": [
    "# Logistic regression with selected features (using pipeline)\n",
    "pipeline = Pipeline([('features',union), ('logreg',logreg)])\n",
    "# Grid search with CV over pipeline \n",
    "params = {'logreg__C':[1., 10., 100.], 'logreg__penalty':['l1', 'l2']}\n",
    "grid_pipe = grid_search.GridSearchCV(pipeline, param_grid=params, cv=2, \n",
    "                                     scoring='log_loss', n_jobs=-1)\n",
    "grid_pipe.fit(X_train, y_train)\n",
    "best_params = grid_pipe.best_params_\n",
    "print(best_params)"
   ]
  },
  {
   "cell_type": "code",
   "execution_count": null,
   "metadata": {
    "collapsed": false
   },
   "outputs": [],
   "source": [
    "# Predict probability on test data\n",
    "y_pred_proba_logreg = grid_pipe.predict_proba(X_test)\n",
    "# Accuracy metrics (log-loss)\n",
    "logloss = metrics.log_loss(y_test, y_pred_proba_logreg)\n",
    "print('Log-loss: {:.6f}'.format(logloss))"
   ]
  },
  {
   "cell_type": "markdown",
   "metadata": {},
   "source": [
    "### Support Vector Machine"
   ]
  },
  {
   "cell_type": "code",
   "execution_count": null,
   "metadata": {
    "collapsed": false
   },
   "outputs": [],
   "source": [
    "# Support Vector Classification\n",
    "svc = svm.NuSVC(nu=0.5, kernel='linear', probability=False)  # Slow with: probability=True\n",
    "# Fit\n",
    "svc.fit(X_train, y_train)"
   ]
  },
  {
   "cell_type": "code",
   "execution_count": null,
   "metadata": {
    "collapsed": false
   },
   "outputs": [],
   "source": [
    "# Predict probability on test data\n",
    "y_pred_proba_svc = svc.predict_proba(X_test)\n",
    "# Accuracy metrics (log-loss)\n",
    "logloss = metrics.log_loss(y_test, y_pred_proba_svc)\n",
    "print('Log-loss: {:.6f}'.format(logloss))"
   ]
  },
  {
   "cell_type": "markdown",
   "metadata": {},
   "source": [
    "### Gaussian Naive Bayes"
   ]
  },
  {
   "cell_type": "code",
   "execution_count": null,
   "metadata": {
    "collapsed": false
   },
   "outputs": [],
   "source": [
    "# Gaussian Naive Bayes\n",
    "bayes = GaussianNB()\n",
    "# Fit\n",
    "bayes.fit(X_train, y_train)"
   ]
  },
  {
   "cell_type": "code",
   "execution_count": null,
   "metadata": {
    "collapsed": false
   },
   "outputs": [],
   "source": [
    "# Predict probability on test data\n",
    "y_pred_proba_bayes = bayes.predict_proba(X_test)\n",
    "# Accuracy metrics (log-loss)\n",
    "logloss = metrics.log_loss(y_test, y_pred_proba_bayes)\n",
    "print('Log-loss: {:.6f}'.format(logloss))"
   ]
  },
  {
   "cell_type": "code",
   "execution_count": null,
   "metadata": {
    "collapsed": false
   },
   "outputs": [],
   "source": [
    "# Naive Bayes with Calibration\n",
    "calibrate = CalibratedClassifierCV(bayes, cv=5, method='isotonic')\n",
    "# Fit\n",
    "calibrate.fit(X_train, y_train)\n",
    "# Predict probability on test data\n",
    "y_pred_proba_bayes = calibrate.predict_proba(X_test)\n",
    "# Accuracy metrics (log-loss)\n",
    "logloss = metrics.log_loss(y_test, y_pred_proba_bayes)\n",
    "print('Log-loss: {:.6f}'.format(logloss))"
   ]
  },
  {
   "cell_type": "markdown",
   "metadata": {},
   "source": [
    "#### Naive Bayes with Selected Features"
   ]
  },
  {
   "cell_type": "code",
   "execution_count": null,
   "metadata": {
    "collapsed": false
   },
   "outputs": [],
   "source": [
    "# Naive Bayes with Selected Features (using pipeline)\n",
    "bayes = GaussianNB()\n",
    "pipe = Pipeline([('features',union), ('bayes',bayes)])\n",
    "pipe.fit(X_train, y_train)\n",
    "# Predict probability on test data\n",
    "y_pred_proba_bayes = pipe.predict_proba(X_test)\n",
    "# Accuracy metrics (log-loss)\n",
    "logloss = metrics.log_loss(y_test, y_pred_proba_bayes)\n",
    "print('Log-loss: {:.6f}'.format(logloss))"
   ]
  },
  {
   "cell_type": "markdown",
   "metadata": {},
   "source": [
    "### Random Forest Classifier"
   ]
  },
  {
   "cell_type": "code",
   "execution_count": null,
   "metadata": {
    "collapsed": false
   },
   "outputs": [],
   "source": [
    "# Random Forest Classifier\n",
    "forest = ensemble.RandomForestClassifier(n_estimators=100, criterion='entropy', \n",
    "                                         max_depth=5, oob_score=True, n_jobs=-1)\n",
    "# Fit\n",
    "forest.fit(X_train, y_train)"
   ]
  },
  {
   "cell_type": "code",
   "execution_count": null,
   "metadata": {
    "collapsed": false
   },
   "outputs": [],
   "source": [
    "# Predict probability on test data\n",
    "y_pred_proba_forest = forest.predict_proba(X_test)\n",
    "# Accuracy metrics (log-loss)\n",
    "logloss = metrics.log_loss(y_test, y_pred_proba_forest)\n",
    "print('Log-loss: {:.6f}'.format(logloss))"
   ]
  },
  {
   "cell_type": "markdown",
   "metadata": {},
   "source": [
    "### Extra Trees Classifier"
   ]
  },
  {
   "cell_type": "code",
   "execution_count": null,
   "metadata": {
    "collapsed": false
   },
   "outputs": [],
   "source": [
    "# Extra Trees Classifier\n",
    "trees = ensemble.ExtraTreesClassifier(n_estimators=100, criterion='entropy', max_depth=5, n_jobs=-1)\n",
    "# Fit\n",
    "trees.fit(X_train, y_train)"
   ]
  },
  {
   "cell_type": "code",
   "execution_count": null,
   "metadata": {
    "collapsed": false
   },
   "outputs": [],
   "source": [
    "# Predict probability on test data\n",
    "y_pred_proba_trees = trees.predict_proba(X_test)\n",
    "# Accuracy metrics (log-loss)\n",
    "logloss = metrics.log_loss(y_test, y_pred_proba_trees)\n",
    "print('Log-loss: {:.6f}'.format(logloss))"
   ]
  },
  {
   "cell_type": "markdown",
   "metadata": {},
   "source": [
    "#### Extra Trees Classifier with Grid search and Cross-validation"
   ]
  },
  {
   "cell_type": "code",
   "execution_count": null,
   "metadata": {
    "collapsed": false
   },
   "outputs": [],
   "source": [
    "# Extra Trees Classifier with Grid search and Cross-validation\n",
    "trees = ensemble.ExtraTreesClassifier()\n",
    "# Grid search for optimal parameters\n",
    "params = {'n_estimators':[50, 100], 'criterion':['gini', 'entropy'], 'max_depth':[5, 10]}\n",
    "stacker = grid_search.GridSearchCV(estimator=trees, param_grid=params, cv=2,\n",
    "                                   scoring='log_loss', n_jobs=-1)\n",
    "stacker.fit(X_train, y_train)\n",
    "best_params = stacker.best_params_\n",
    "print(best_params)"
   ]
  },
  {
   "cell_type": "code",
   "execution_count": null,
   "metadata": {
    "collapsed": false
   },
   "outputs": [],
   "source": [
    "# Predict probability on test data\n",
    "y_pred_proba_trees = stacker.predict_proba(X_test)\n",
    "# Accuracy metrics (log-loss)\n",
    "logloss = metrics.log_loss(y_test, y_pred_proba_trees)\n",
    "print('Log-loss: {:.6f}'.format(logloss))"
   ]
  },
  {
   "cell_type": "markdown",
   "metadata": {},
   "source": [
    "#### Feature importance"
   ]
  },
  {
   "cell_type": "code",
   "execution_count": null,
   "metadata": {
    "collapsed": false
   },
   "outputs": [],
   "source": [
    "# Feature importance\n",
    "feature_importance = trees.feature_importances_\n",
    "print('Feature importance:')\n",
    "for feature, name in zip(feature_importance, training_set.columns):\n",
    "    print('{:8s} => {:g}'.format(name, feature))"
   ]
  },
  {
   "cell_type": "code",
   "execution_count": null,
   "metadata": {
    "collapsed": false
   },
   "outputs": [],
   "source": [
    "# Select the most important features\n",
    "features_model = feature_selection.SelectFromModel(trees, prefit=True)\n",
    "X_train_top = features_model.transform(X_train)\n",
    "X_train_top.shape"
   ]
  },
  {
   "cell_type": "markdown",
   "metadata": {},
   "source": [
    "### Gradient Boost Classifier"
   ]
  },
  {
   "cell_type": "code",
   "execution_count": null,
   "metadata": {
    "collapsed": false,
    "scrolled": true
   },
   "outputs": [],
   "source": [
    "# Gradient Boost Classifier\n",
    "boost_ = ensemble.GradientBoostingClassifier()\n",
    "# Grid search for optimal parameters\n",
    "params = {'max_depth':[5, 10], 'learning_rate':[0.001, 0.01], 'n_estimators':[100, 500]}\n",
    "boost = grid_search.GridSearchCV(estimator=boost_, param_grid=params, cv=2,\n",
    "                                 scoring='log_loss', n_jobs=-1)\n",
    "# Fit using train data\n",
    "boost.fit(X_train, y_train)\n",
    "best_params = boost.best_params_\n",
    "print(best_params)"
   ]
  },
  {
   "cell_type": "code",
   "execution_count": 25,
   "metadata": {
    "collapsed": false
   },
   "outputs": [
    {
     "name": "stdout",
     "output_type": "stream",
     "text": [
      "Log-loss: 0.691621\n"
     ]
    }
   ],
   "source": [
    "# Predict probability on test data\n",
    "y_pred_proba_boost = boost.predict_proba(X_test)\n",
    "# Accuracy metrics (log-loss)\n",
    "logloss = metrics.log_loss(y_test, y_pred_proba_boost)\n",
    "print('Log-loss: {:.6f}'.format(logloss))"
   ]
  },
  {
   "cell_type": "markdown",
   "metadata": {},
   "source": [
    "#### Feature importance"
   ]
  },
  {
   "cell_type": "code",
   "execution_count": 26,
   "metadata": {
    "collapsed": false
   },
   "outputs": [
    {
     "data": {
      "text/plain": [
       "GradientBoostingClassifier(criterion='friedman_mse', init=None,\n",
       "              learning_rate=0.01, loss='deviance', max_depth=5,\n",
       "              max_features=None, max_leaf_nodes=None,\n",
       "              min_impurity_split=1e-07, min_samples_leaf=1,\n",
       "              min_samples_split=2, min_weight_fraction_leaf=0.0,\n",
       "              n_estimators=100, presort='auto', random_state=None,\n",
       "              subsample=1.0, verbose=0, warm_start=False)"
      ]
     },
     "execution_count": 26,
     "metadata": {},
     "output_type": "execute_result"
    }
   ],
   "source": [
    "# Feature importance\n",
    "boost_features = ensemble.GradientBoostingClassifier(**best_params)\n",
    "boost_features.fit(X_train, y_train)"
   ]
  },
  {
   "cell_type": "code",
   "execution_count": 27,
   "metadata": {
    "collapsed": false
   },
   "outputs": [
    {
     "data": {
      "text/plain": [
       "array([ 4,  1,  3, 17,  9, 19, 16, 15, 14,  5, 10, 11, 12, 13,  0,  2,  6,\n",
       "       18, 20,  8,  7])"
      ]
     },
     "execution_count": 27,
     "metadata": {},
     "output_type": "execute_result"
    }
   ],
   "source": [
    "feature_importance = boost_features.feature_importances_\n",
    "feature_importance = 100.0 * (feature_importance / feature_importance.max())\n",
    "sorted_idx = np.argsort(feature_importance)\n",
    "sorted_idx"
   ]
  },
  {
   "cell_type": "code",
   "execution_count": 28,
   "metadata": {
    "collapsed": false
   },
   "outputs": [
    {
     "data": {
      "image/png": "[encoded data removed]",
      "text/plain": [
       "<matplotlib.figure.Figure at 0x7fdb101e9bd0>"
      ]
     },
     "metadata": {},
     "output_type": "display_data"
    }
   ],
   "source": [
    "# Visualize relative feature importance\n",
    "pos = np.arange(sorted_idx.shape[0]) + 1.\n",
    "fig, ax = plt.subplots(figsize=(6,7))\n",
    "ax.barh(pos, feature_importance[sorted_idx], align='center')\n",
    "plt.yticks(pos, training_set.columns[sorted_idx])\n",
    "ax.set_xlabel('Features Relative Importance')\n",
    "plt.tight_layout()\n",
    "plt.show()"
   ]
  },
  {
   "cell_type": "code",
   "execution_count": null,
   "metadata": {
    "collapsed": false
   },
   "outputs": [],
   "source": [
    "# Take 3 best features with their interactions\n",
    "best_3 = [0, 8, 20, (0,8), (0,20), (8,20)]  # feature1, feature9, feature21\n",
    "# One-way and two-way partial dependence plots\n",
    "fig, ax = plt.subplots(figsize=(8,7))\n",
    "ensemble.partial_dependence.plot_partial_dependence(boost_features, X_train, best_3, ax=ax);"
   ]
  },
  {
   "cell_type": "markdown",
   "metadata": {},
   "source": [
    "### AdaBoost Classifier"
   ]
  },
  {
   "cell_type": "code",
   "execution_count": null,
   "metadata": {
    "collapsed": false,
    "scrolled": true
   },
   "outputs": [],
   "source": [
    "# AdaBoost Classifier\n",
    "# base estimator is a decision tree if not stated otherhwise\n",
    "ada_ = ensemble.AdaBoostClassifier(base_estimator=ensemble.ExtraTreesClassifier(n_estimators=50, \n",
    "                                   criterion='entropy', max_depth=5))\n",
    "# Grid search for optimal parameters\n",
    "params = {'learning_rate':[0.001, 0.01, 0.1], 'n_estimators':[50, 100]}\n",
    "ada = grid_search.GridSearchCV(estimator=ada_, param_grid=params, cv=2,\n",
    "                               scoring='log_loss', n_jobs=-1)\n",
    "# Fit using train data\n",
    "ada.fit(X_train, y_train)\n",
    "best_params = ada.best_params_\n",
    "print(best_params)"
   ]
  },
  {
   "cell_type": "code",
   "execution_count": null,
   "metadata": {
    "collapsed": false
   },
   "outputs": [],
   "source": [
    "# Predict probability on test data\n",
    "y_pred_proba_ada = ada.predict_proba(X_test)\n",
    "# Accuracy metrics (log-loss)\n",
    "logloss = metrics.log_loss(y_test, y_pred_proba_ada)\n",
    "print('Log-loss: {:.6f}'.format(logloss))"
   ]
  },
  {
   "cell_type": "markdown",
   "metadata": {},
   "source": [
    "### Bagging classifier"
   ]
  },
  {
   "cell_type": "code",
   "execution_count": null,
   "metadata": {
    "collapsed": false,
    "scrolled": true
   },
   "outputs": [],
   "source": [
    "# Bagging classifier \n",
    "# base estimator is a decision tree if not stated otherhwise\n",
    "bagg = ensemble.BaggingClassifier(base_estimator=ensemble.ExtraTreesClassifier(n_estimators=50, \n",
    "                                  criterion='entropy', max_depth=5), n_estimators=100, \n",
    "                                  max_samples=0.6, max_features=0.8, oob_score=True, n_jobs=-1)\n",
    "# Fit\n",
    "bagg.fit(X_train, y_train)"
   ]
  },
  {
   "cell_type": "code",
   "execution_count": null,
   "metadata": {
    "collapsed": false
   },
   "outputs": [],
   "source": [
    "# Predict probability on test data\n",
    "y_pred_proba_bagg = bagg.predict_proba(X_test)\n",
    "# Accuracy metrics (log-loss)\n",
    "logloss = metrics.log_loss(y_test, y_pred_proba_bagg)\n",
    "print('Log-loss: {:.6f}'.format(logloss))"
   ]
  },
  {
   "cell_type": "markdown",
   "metadata": {},
   "source": [
    "### Stochastic Gradient Descent"
   ]
  },
  {
   "cell_type": "code",
   "execution_count": null,
   "metadata": {
    "collapsed": false
   },
   "outputs": [],
   "source": [
    "# Stochastic Gradient Descent Classifier\n",
    "desc = linear_model.SGDClassifier(loss='log', penalty='l1', learning_rate='constant', \n",
    "                                  eta0=0.001, n_jobs=-1)\n",
    "# Fit\n",
    "desc.fit(X_train, y_train)"
   ]
  },
  {
   "cell_type": "code",
   "execution_count": null,
   "metadata": {
    "collapsed": false
   },
   "outputs": [],
   "source": [
    "# Predict probability on test data\n",
    "y_pred_proba_desc = desc.predict_proba(X_test)\n",
    "# Accuracy metrics (log-loss)\n",
    "logloss = metrics.log_loss(y_test, y_pred_proba_desc)\n",
    "print('Log-loss: {:.6f}'.format(logloss))"
   ]
  },
  {
   "cell_type": "code",
   "execution_count": null,
   "metadata": {
    "collapsed": false
   },
   "outputs": [],
   "source": [
    "# Calibrated Stochastic Gradient Descent Classifier\n",
    "desc_cal = CalibratedClassifierCV(desc, cv=5, method='isotonic')\n",
    "# Fit\n",
    "desc_cal.fit(X_train, y_train)"
   ]
  },
  {
   "cell_type": "code",
   "execution_count": null,
   "metadata": {
    "collapsed": false
   },
   "outputs": [],
   "source": [
    "# Predict probability on test data\n",
    "y_pred_proba_desc = desc_cal.predict_proba(X_test)\n",
    "# Accuracy metrics (log-loss)\n",
    "logloss = metrics.log_loss(y_test, y_pred_proba_desc)\n",
    "print('Log-loss: {:.6f}'.format(logloss))"
   ]
  },
  {
   "cell_type": "markdown",
   "metadata": {},
   "source": [
    "### K-Nearest Neighbors"
   ]
  },
  {
   "cell_type": "code",
   "execution_count": null,
   "metadata": {
    "collapsed": false
   },
   "outputs": [],
   "source": [
    "# K-Nearest Neighbors Classifier\n",
    "knn = KNeighborsClassifier(n_neighbors=600, weights='distance', metric='chebyshev', n_jobs=-1)\n",
    "# Fit\n",
    "knn.fit(X_train, y_train)"
   ]
  },
  {
   "cell_type": "code",
   "execution_count": null,
   "metadata": {
    "collapsed": false
   },
   "outputs": [],
   "source": [
    "# Predict probability on test data\n",
    "y_pred_proba_knn = knn.predict_proba(X_test)\n",
    "# Accuracy metrics (log-loss)\n",
    "logloss = metrics.log_loss(y_test, y_pred_proba_knn)\n",
    "print('Log-loss: {:.6f}'.format(logloss))"
   ]
  },
  {
   "cell_type": "code",
   "execution_count": null,
   "metadata": {
    "collapsed": false
   },
   "outputs": [],
   "source": [
    "# Calibrated KNN Classifier\n",
    "knn_cal = CalibratedClassifierCV(knn, cv=2, method='isotonic')\n",
    "# Fit\n",
    "knn_cal.fit(X_train, y_train)"
   ]
  },
  {
   "cell_type": "code",
   "execution_count": null,
   "metadata": {
    "collapsed": false
   },
   "outputs": [],
   "source": [
    "# Predict probability on test data\n",
    "y_pred_proba_knn = knn_cal.predict_proba(X_test)\n",
    "# Accuracy metrics (log-loss)\n",
    "logloss = metrics.log_loss(y_test, y_pred_proba_knn)\n",
    "print('Log-loss: {:.6f}'.format(logloss))"
   ]
  },
  {
   "cell_type": "markdown",
   "metadata": {},
   "source": [
    "## Ensamble different classifiers"
   ]
  },
  {
   "cell_type": "markdown",
   "metadata": {},
   "source": [
    "### A) Ensemble by voting (soft)"
   ]
  },
  {
   "cell_type": "code",
   "execution_count": null,
   "metadata": {
    "collapsed": false
   },
   "outputs": [],
   "source": [
    "# Ensamble classifiers\n",
    "use_estimators = [('logreg',logreg), ('bayes',bayes), ('bagg',bagg),\n",
    "                  ('forest',forest), ('trees',trees), ('ada',ada), \n",
    "                  ('boost',boost), ('knn',knn_cal), ('desc',desc_cal)]\n",
    "\n",
    "# Assign weights for the ensamble\n",
    "w = [2, 2, 1, 2, 1, 2, 2, 1, 2]"
   ]
  },
  {
   "cell_type": "code",
   "execution_count": null,
   "metadata": {
    "collapsed": true
   },
   "outputs": [],
   "source": [
    "# Ensamble classifiers (soft voting)\n",
    "voting = ensemble.VotingClassifier(estimators=use_estimators, voting='soft', weights=w)"
   ]
  },
  {
   "cell_type": "code",
   "execution_count": null,
   "metadata": {
    "collapsed": false,
    "scrolled": true
   },
   "outputs": [],
   "source": [
    "# Fit model using train data\n",
    "voting.fit(X_train, y_train)"
   ]
  },
  {
   "cell_type": "code",
   "execution_count": null,
   "metadata": {
    "collapsed": false
   },
   "outputs": [],
   "source": [
    "# Predict probability on test data\n",
    "y_pred_proba_vote = voting.predict_proba(X_test)"
   ]
  },
  {
   "cell_type": "code",
   "execution_count": null,
   "metadata": {
    "collapsed": false
   },
   "outputs": [],
   "source": [
    "# Classification accuracy metrics\n",
    "logloss = metrics.log_loss(y_test, y_pred_proba_vote)\n",
    "print('Log-loss: {:.6f}'.format(logloss))"
   ]
  },
  {
   "cell_type": "markdown",
   "metadata": {},
   "source": [
    "### B) Blending different classifiers"
   ]
  },
  {
   "cell_type": "code",
   "execution_count": null,
   "metadata": {
    "collapsed": false
   },
   "outputs": [],
   "source": [
    "# Different classifiers predictions\n",
    "ordered_predictions = OrderedDict()\n",
    "ordered_predictions['keras'] = y_pred_proba_nn[:,1]\n",
    "ordered_predictions['logreg'] = y_pred_proba_logreg[:,1]\n",
    "ordered_predictions['bayes'] = y_pred_proba_bayes[:,1]\n",
    "ordered_predictions['forest'] = y_pred_proba_forest[:,1]\n",
    "ordered_predictions['trees'] = y_pred_proba_trees[:,1]\n",
    "ordered_predictions['bagg'] = y_pred_proba_bagg[:,1]\n",
    "ordered_predictions['boost'] = y_pred_proba_boost[:,1]\n",
    "ordered_predictions['ada'] = y_pred_proba_ada[:,1]\n",
    "ordered_predictions['desc'] = y_pred_proba_desc[:,1]\n",
    "ordered_predictions['knn'] = y_pred_proba_knn[:,1]\n",
    "proba_all = pd.DataFrame(data=ordered_predictions)"
   ]
  },
  {
   "cell_type": "code",
   "execution_count": null,
   "metadata": {
    "collapsed": false
   },
   "outputs": [],
   "source": [
    "proba_all.head()"
   ]
  },
  {
   "cell_type": "code",
   "execution_count": null,
   "metadata": {
    "collapsed": true
   },
   "outputs": [],
   "source": [
    "# Pickle classifier prediction probabilities\n",
    "with open('classifier_pred_proba.pkl', 'wb') as fout:\n",
    "    pickle.dump(proba_all, fout)"
   ]
  },
  {
   "cell_type": "code",
   "execution_count": null,
   "metadata": {
    "collapsed": false
   },
   "outputs": [],
   "source": [
    "proba_all.shape"
   ]
  },
  {
   "cell_type": "code",
   "execution_count": null,
   "metadata": {
    "collapsed": false
   },
   "outputs": [],
   "source": [
    "y_test.shape"
   ]
  },
  {
   "cell_type": "code",
   "execution_count": null,
   "metadata": {
    "collapsed": false
   },
   "outputs": [],
   "source": [
    "pearson = proba_all.corr('pearson')\n",
    "# Correlation matrix as heatmap (seaborn)\n",
    "fig, ax = plt.subplots(figsize=(7,6))\n",
    "sns.heatmap(pearson, annot=True, annot_kws=dict(size=9), vmin=-1, vmax=1, ax=ax)\n",
    "plt.tight_layout()\n",
    "plt.show()"
   ]
  },
  {
   "cell_type": "code",
   "execution_count": null,
   "metadata": {
    "collapsed": true
   },
   "outputs": [],
   "source": [
    "# Load pickled classifier prediction probabilities\n",
    "with open('classifier_pred_proba.pkl', 'rb') as fin:\n",
    "    proba_all = pickle.load(fin)"
   ]
  },
  {
   "cell_type": "code",
   "execution_count": null,
   "metadata": {
    "collapsed": false
   },
   "outputs": [],
   "source": [
    "# Split the first stage predictions in train & test set\n",
    "split_ratio = 0.9  # train vs test ratio\n",
    "N = int(X_test.shape[0]*split_ratio)"
   ]
  },
  {
   "cell_type": "code",
   "execution_count": null,
   "metadata": {
    "collapsed": false
   },
   "outputs": [],
   "source": [
    "X_train_second = proba_all.values[:N,:]\n",
    "print(X_train_second.shape)\n",
    "y_train_second = y_test[:N]\n",
    "print(y_train_second.shape)\n",
    "X_validate = proba_all.values[N:,:]\n",
    "print(X_validate.shape)\n",
    "y_validate = y_test[N:]\n",
    "print(y_validate.shape)"
   ]
  },
  {
   "cell_type": "code",
   "execution_count": null,
   "metadata": {
    "collapsed": true
   },
   "outputs": [],
   "source": [
    "# Split data into train and test samples (random ordering)\n",
    "X_train_second, X_validate, y_train_second, y_validate = \\\n",
    "    cross_validation.train_test_split(proba_all.values, y_test, train_size=split_ratio)"
   ]
  },
  {
   "cell_type": "markdown",
   "metadata": {},
   "source": [
    "#### Blending with Logistic Regression"
   ]
  },
  {
   "cell_type": "code",
   "execution_count": null,
   "metadata": {
    "collapsed": false,
    "scrolled": true
   },
   "outputs": [],
   "source": [
    "# Second stage classifier\n",
    "second = LogisticRegression()\n",
    "# Grid search for optimal parameters\n",
    "params = {'C':[0.1, 1., 10.], 'penalty':['l1', 'l2']}\n",
    "grid_second = grid_search.GridSearchCV(estimator=second, param_grid=params, \n",
    "                                       cv=3, scoring='log_loss', n_jobs=-1)\n",
    "grid_second.fit(X_train_second, y_train_second)\n",
    "best_params = grid_second.best_params_\n",
    "print(best_params)\n",
    "# Predict probability on test data\n",
    "y_pred_proba_logreg_second = grid_second.predict_proba(X_validate)\n",
    "# Accuracy metrics (log-loss)\n",
    "logloss = metrics.log_loss(y_validate, y_pred_proba_logreg_second)\n",
    "print('Log-loss: {:.6f}'.format(logloss))"
   ]
  },
  {
   "cell_type": "markdown",
   "metadata": {},
   "source": [
    "#### Blending with Linear Regression"
   ]
  },
  {
   "cell_type": "code",
   "execution_count": null,
   "metadata": {
    "collapsed": false,
    "scrolled": true
   },
   "outputs": [],
   "source": [
    "# Ridge regression with built-in cross validation\n",
    "linear = linear_model.RidgeCV(alphas=(0.1, 1.0, 10.0), fit_intercept=False, \n",
    "                              cv=3, scoring='log_loss')\n",
    "# Fit\n",
    "linear.fit(X_train_second, y_train_second)\n",
    "# Predict\n",
    "y_pred_linear = linear.predict(X_validate)\n",
    "# Accuracy metrics (log-loss)\n",
    "logloss = metrics.log_loss(y_validate, y_pred_linear)\n",
    "print('Log-loss: {:.6f}'.format(logloss))"
   ]
  },
  {
   "cell_type": "markdown",
   "metadata": {},
   "source": [
    "#### Blending with Extremely Randomized Trees"
   ]
  },
  {
   "cell_type": "code",
   "execution_count": null,
   "metadata": {
    "collapsed": false
   },
   "outputs": [],
   "source": [
    "trees_second = ensemble.ExtraTreesClassifier(n_estimators=100, criterion='entropy', max_depth=5, n_jobs=-1)\n",
    "# Fit\n",
    "trees_second.fit(X_train_second, y_train_second)\n",
    "# Predict\n",
    "trees_second.predict_proba(X_validate)\n",
    "# Accuracy metrics (log-loss)\n",
    "logloss = metrics.log_loss(y_validate, y_pred_proba_logreg_second)\n",
    "print('Log-loss: {:.6f}'.format(logloss))"
   ]
  },
  {
   "cell_type": "markdown",
   "metadata": {},
   "source": [
    "#### Blending with Keras Network Classifier"
   ]
  },
  {
   "cell_type": "code",
   "execution_count": null,
   "metadata": {
    "collapsed": true
   },
   "outputs": [],
   "source": [
    "#Build a feed forward neural network for classification\n",
    "model_blend = keras.models.Sequential()\n",
    "\n",
    "# Input layer\n",
    "model_blend.add(keras.layers.Dense(1024, input_dim=proba_all.shape[1], init='glorot_uniform'))\n",
    "model_blend.add(keras.layers.Activation('tanh'))\n",
    "model_blend.add(keras.layers.Dropout(0.5))\n",
    "# hidden layer\n",
    "model_blend.add(keras.layers.Dense(512, init='glorot_uniform'))\n",
    "model_blend.add(keras.layers.Activation('tanh'))\n",
    "model_blend.add(keras.layers.Dropout(0.5))\n",
    "# Output layer\n",
    "model_blend.add(keras.layers.Dense(2, init='glorot_uniform'))\n",
    "model_blend.add(keras.layers.Activation('softmax'))\n",
    "\n",
    "# Optimizer\n",
    "sgd = keras.optimizers.SGD(lr=0.01, momentum=0.9, decay=1e-2, nesterov=True)\n",
    "\n",
    "# Compile network\n",
    "model_blend.compile(loss='binary_crossentropy', optimizer=sgd, metrics=['accuracy'])"
   ]
  },
  {
   "cell_type": "code",
   "execution_count": null,
   "metadata": {
    "collapsed": true
   },
   "outputs": [],
   "source": [
    "# Encode 'targets' to categorical variables (2 categories: 0, 1)\n",
    "y_train_second_nn = keras.utils.np_utils.to_categorical(y_train_second)\n",
    "y_test_second_nn = keras.utils.np_utils.to_categorical(y_validate)"
   ]
  },
  {
   "cell_type": "code",
   "execution_count": null,
   "metadata": {
    "collapsed": false
   },
   "outputs": [],
   "source": [
    "# Early stopping of training process (if no improvement)\n",
    "early_stop = keras.callbacks.EarlyStopping(monitor='val_loss', patience=10, verbose=1, mode='auto')\n",
    "\n",
    "history = LossHistory()\n",
    "# Fit model on train data\n",
    "model_blend.fit(X_train_second, y_train_second_nn, nb_epoch=100, \n",
    "                batch_size=BATCH, callbacks=[early_stop, history],\n",
    "                validation_data=(X_validate, y_test_second_nn), \n",
    "                shuffle=False, verbose=0)"
   ]
  },
  {
   "cell_type": "code",
   "execution_count": null,
   "metadata": {
    "collapsed": false
   },
   "outputs": [],
   "source": [
    "# Score metrics (evaluate model on test data)\n",
    "score = model_blend.evaluate(X_validate, y_test_second_nn, batch_size=BATCH, verbose=1)\n",
    "print('\\nLog-loss: {:g}, Accuracy: {:.2f} %'.format(score[0], score[1]*100))"
   ]
  },
  {
   "cell_type": "markdown",
   "metadata": {},
   "source": [
    "### C) Stacking different classifiers"
   ]
  },
  {
   "cell_type": "code",
   "execution_count": null,
   "metadata": {
    "collapsed": false
   },
   "outputs": [],
   "source": [
    "# Stacking best original features (11) and first stage predictions (10)\n",
    "# Select best original features\n",
    "k_best = feature_selection.SelectKBest(feature_selection.f_classif, k=5)\n",
    "pca = PCA(n_components=6)\n",
    "# Make a union of features (FeatureUnion)\n",
    "union = FeatureUnion([('KBest',k_best), ('PCA',pca)])\n",
    "union.fit(X_test, y_test)\n",
    "# Transform test data set (best features)\n",
    "X_test_best = union.transform(X_test)\n",
    "\n",
    "# Stack best features with first stage predictions (11+10=21)\n",
    "# Train dataset\n",
    "X_train_union = np.c_[X_test_best[:N,:], X_train_second]\n",
    "print(X_train_union.shape)\n",
    "y_train_union = y_test[:N]\n",
    "print(y_train_union.shape)\n",
    "# Validate dataset\n",
    "X_test_union = np.c_[X_test_best[N:,:], X_validate]\n",
    "print(X_test_union.shape)\n",
    "y_test_union = y_test[N:]\n",
    "print(y_test_union.shape)"
   ]
  },
  {
   "cell_type": "markdown",
   "metadata": {},
   "source": [
    "#### Stacking with TensorFlow DNN Classifier"
   ]
  },
  {
   "cell_type": "code",
   "execution_count": null,
   "metadata": {
    "collapsed": false
   },
   "outputs": [],
   "source": [
    "# TensorFlow Deep Neural Network Classifier (second stage classifier)\n",
    "features = learn.infer_real_valued_columns_from_input(X_train_union)\n",
    "\n",
    "# Optimizer algorithm\n",
    "adam = tf.train.AdamOptimizer(learning_rate=0.001)\n",
    "\n",
    "# Build a multi-layerr DNN for classification\n",
    "model_dnn = learn.DNNClassifier(feature_columns=features, hidden_units=[1024, 512],\n",
    "                                n_classes=2, #model_dir=\"/tmp/numerai\",\n",
    "                                optimizer=adam, activation_fn=tf.nn.relu, \n",
    "                                config=learn.estimators.RunConfig(num_cores=8))"
   ]
  },
  {
   "cell_type": "code",
   "execution_count": null,
   "metadata": {
    "collapsed": false
   },
   "outputs": [],
   "source": [
    "# Fit model\n",
    "model_dnn.fit(X_train_union, y_train_union, steps=1000, batch_size=1024)"
   ]
  },
  {
   "cell_type": "code",
   "execution_count": null,
   "metadata": {
    "collapsed": false
   },
   "outputs": [],
   "source": [
    "# Evaluate on test data\n",
    "y_pred_proba_dnn = model_dnn.predict_proba(X_test_union)\n",
    "# Log-loss score\n",
    "log_loss_score = metrics.log_loss(y_test_union, y_pred_proba_dnn)\n",
    "print('Log-loss: {0:f}'.format(log_loss_score))"
   ]
  },
  {
   "cell_type": "markdown",
   "metadata": {},
   "source": [
    "#### Stacking with Extremely Randomized Trees"
   ]
  },
  {
   "cell_type": "code",
   "execution_count": null,
   "metadata": {
    "collapsed": false,
    "scrolled": true
   },
   "outputs": [],
   "source": [
    "mdl = ensemble.ExtraTreesClassifier()\n",
    "# Grid search for optimal parameters\n",
    "params = {'n_estimators':[100, 400], 'criterion':['gini', 'entropy'], 'max_depth':[3, 5]}\n",
    "stacker = grid_search.GridSearchCV(estimator=mdl, param_grid=params, cv=2,\n",
    "                                   scoring='log_loss', n_jobs=-1)\n",
    "stacker.fit(X_train_union, y_train_union)\n",
    "best_params = stacker.best_params_\n",
    "print(best_params)\n",
    "# Evaluate on test data\n",
    "y_pred_proba_stacker = stacker.predict_proba(X_test_union)\n",
    "# Log-loss score\n",
    "log_loss_score = metrics.log_loss(y_test_union, y_pred_proba_stacker)\n",
    "print('Log-loss: {0:f}'.format(log_loss_score))"
   ]
  },
  {
   "cell_type": "markdown",
   "metadata": {},
   "source": [
    "#### Stacking with Keras Network using Merged branches"
   ]
  },
  {
   "cell_type": "code",
   "execution_count": null,
   "metadata": {
    "collapsed": true
   },
   "outputs": [],
   "source": [
    "# Left branch (original features)\n",
    "model1 = keras.models.Sequential()\n",
    "# Input layer (features)\n",
    "model1.add(keras.layers.Dense(1024, input_dim=X_train.shape[1], init='glorot_uniform'))\n",
    "model1.add(keras.layers.Activation('tanh'))\n",
    "model1.add(keras.layers.Dropout(0.5))\n",
    "# 1st layer\n",
    "model1.add(keras.layers.Dense(512, init='glorot_uniform'))\n",
    "model1.add(keras.layers.Activation('tanh'))\n",
    "model1.add(keras.layers.Dropout(0.5))\n",
    "# 2nd layer\n",
    "model1.add(keras.layers.Dense(256, init='glorot_uniform'))\n",
    "model1.add(keras.layers.Activation('tanh'))\n",
    "model1.add(keras.layers.Dropout(0.5))\n",
    "\n",
    "# Right branch (first-stage predictions)\n",
    "model2 = keras.models.Sequential()\n",
    "# Input layer (10 first-level prediction probabilities)\n",
    "model2.add(keras.layers.Dense(256, input_dim=proba_all.shape[1], init='glorot_uniform'))\n",
    "model2.add(keras.layers.Activation('tanh'))\n",
    "model2.add(keras.layers.Dropout(0.5))\n",
    "# 1st layer\n",
    "model2.add(keras.layers.Dense(128, init='glorot_uniform'))\n",
    "model2.add(keras.layers.Activation('tanh'))\n",
    "model2.add(keras.layers.Dropout(0.5))\n",
    "\n",
    "# Merge branches using 'Merge' layer\n",
    "merged_branches = keras.layers.Merge([model1, model2], mode='concat')\n",
    "model_stack = keras.models.Sequential()\n",
    "model_stack.add(merged_branches)\n",
    "# 1st layer\n",
    "model_stack.add(keras.layers.Dense(1024, init='glorot_uniform'))\n",
    "model_stack.add(keras.layers.Activation('tanh'))\n",
    "model_stack.add(keras.layers.Dropout(0.5))\n",
    "# 2nd layer\n",
    "model_stack.add(keras.layers.Dense(512, init='glorot_uniform'))\n",
    "model_stack.add(keras.layers.Activation('tanh'))\n",
    "model_stack.add(keras.layers.Dropout(0.5))\n",
    "# Output layer\n",
    "model_stack.add(keras.layers.Dense(2, init='glorot_uniform'))\n",
    "model_stack.add(keras.layers.Activation('softmax'))\n",
    "\n",
    "# Optimizer\n",
    "sgd = keras.optimizers.SGD(lr=0.01, momentum=0.9, decay=1e-2, nesterov=True)\n",
    "\n",
    "# Compile network\n",
    "model_stack.compile(loss='binary_crossentropy', optimizer=sgd, metrics=['accuracy'])"
   ]
  },
  {
   "cell_type": "code",
   "execution_count": null,
   "metadata": {
    "collapsed": false
   },
   "outputs": [],
   "source": [
    "# Encode 'targets' to categorical variables (2 categories: 0, 1)\n",
    "y_train_union_nn = keras.utils.np_utils.to_categorical(y_train_union)\n",
    "y_test_union_nn = keras.utils.np_utils.to_categorical(y_test_union)"
   ]
  },
  {
   "cell_type": "code",
   "execution_count": null,
   "metadata": {
    "collapsed": false
   },
   "outputs": [],
   "source": [
    "# Early stopping of training process (if no improvement)\n",
    "early_stop = keras.callbacks.EarlyStopping(monitor='val_loss', patience=10, verbose=1, mode='auto')\n",
    "\n",
    "history = LossHistory()\n",
    "# Fit model on train data\n",
    "model_stack.fit([X_test[:N,:], X_train_second], y_train_union_nn, \n",
    "                nb_epoch=100, batch_size=BATCH, callbacks=[early_stop, history], \n",
    "                validation_data=([X_test[N:,:], X_validate], y_test_union_nn), \n",
    "                shuffle=False, verbose=0)"
   ]
  },
  {
   "cell_type": "code",
   "execution_count": null,
   "metadata": {
    "collapsed": true
   },
   "outputs": [],
   "source": [
    "plt.figure(figsize=(7,5))\n",
    "plt.plot(history.losses[::100])\n",
    "plt.show()"
   ]
  },
  {
   "cell_type": "code",
   "execution_count": null,
   "metadata": {
    "collapsed": false
   },
   "outputs": [],
   "source": [
    "# Score metrics (evaluate model on test data)\n",
    "score = model_stack.evaluate([X_test[N:,:], X_validate], y_test_union_nn, batch_size=BATCH, verbose=1)\n",
    "print('\\nLog-loss: {:g}, Accuracy: {:.2f} %'.format(score[0], score[1]*100))"
   ]
  },
  {
   "cell_type": "markdown",
   "metadata": {},
   "source": [
    "### D) Averageing different classifiers"
   ]
  },
  {
   "cell_type": "markdown",
   "metadata": {},
   "source": [
    "#### Weighted arithmetic mean"
   ]
  },
  {
   "cell_type": "code",
   "execution_count": null,
   "metadata": {
    "collapsed": false
   },
   "outputs": [],
   "source": [
    "# Select classifier outputs \n",
    "y_new_agg = proba_all[['keras', 'logreg', 'bayes', 'boost', 'forest', 'bagg', 'trees']]\n",
    "ws = [2, 2, 1, 1, 2, 1, 1]  # weights\n",
    "y_new_avr = np.average(y_new_agg, axis=1, weights=ws)\n",
    "# Classification accuracy metrics\n",
    "logloss = metrics.log_loss(y_test, y_new_avr)\n",
    "print('Log-loss: {:.6f}'.format(logloss))"
   ]
  },
  {
   "cell_type": "markdown",
   "metadata": {},
   "source": [
    "#### Weighted geometric mean"
   ]
  },
  {
   "cell_type": "code",
   "execution_count": null,
   "metadata": {
    "collapsed": true
   },
   "outputs": [],
   "source": [
    "# Select classifier outputs \n",
    "y_new_agg = proba_all[['keras', 'logreg', 'bayes', 'boost', 'forest', 'bagg', 'trees']].values\n",
    "ws = [1, 1, 1, 1, 1, 1, 1]  # weights\n",
    "y_new_avr = np.zeros(y_new_agg.shape)\n",
    "for in in range(y_new_agg.shape[0]):\n",
    "    y_new_avr[i] = np.exp(np.sum(ws*np.log(y_new_agg[i,:]))/np.sum(ws))"
   ]
  },
  {
   "cell_type": "markdown",
   "metadata": {},
   "source": [
    "## Classify new samples (tournament data)"
   ]
  },
  {
   "cell_type": "markdown",
   "metadata": {},
   "source": [
    "### A) Using Voting (soft)"
   ]
  },
  {
   "cell_type": "code",
   "execution_count": null,
   "metadata": {
    "collapsed": false,
    "scrolled": true
   },
   "outputs": [],
   "source": [
    "# Classify new samples (tournament data)\n",
    "y_pred_proba_voting = voting.predict_proba(X_predict)\n",
    "y_proba_predicted = y_pred_proba_voting[:,1]\n",
    "y_proba_predicted.shape"
   ]
  },
  {
   "cell_type": "markdown",
   "metadata": {},
   "source": [
    "### B) Using Blending"
   ]
  },
  {
   "cell_type": "code",
   "execution_count": null,
   "metadata": {
    "collapsed": false
   },
   "outputs": [],
   "source": [
    "# 1) predict on new samples using the original classifiers\n",
    "y0 = model.predict_proba(X_predict, batch_size=BATCH)  # Keras Neural Network"
   ]
  },
  {
   "cell_type": "code",
   "execution_count": null,
   "metadata": {
    "collapsed": false
   },
   "outputs": [],
   "source": [
    "# 1) predict on new samples using the original classifiers\n",
    "y1 = grid.predict_proba(X_predict)       # Logistic regression\n",
    "y2 = calibrate.predict_proba(X_predict)  # Naive Bayes (calibrated)\n",
    "y3 = forest.predict_proba(X_predict)     # Random Forest"
   ]
  },
  {
   "cell_type": "code",
   "execution_count": null,
   "metadata": {
    "collapsed": false,
    "scrolled": true
   },
   "outputs": [],
   "source": [
    "# 1) predict on new samples using the original classifiers (cont.)\n",
    "y4 = trees.predict_proba(X_predict)  # Extra Trees\n",
    "y5 = bagg.predict_proba(X_predict)   # Bagging\n",
    "y6 = boost.predict_proba(X_predict)  # Gradient Boosting"
   ]
  },
  {
   "cell_type": "code",
   "execution_count": null,
   "metadata": {
    "collapsed": false
   },
   "outputs": [],
   "source": [
    "# 1) predict on new samples using the original classifiers (cont.)\n",
    "y7 = ada.predict_proba(X_predict)       # AdaBoost\n",
    "y8 = desc_cal.predict_proba(X_predict)  # Stochastic Gradient Descent (calibrated)\n",
    "y9 = knn.predict_proba(X_predict)       # K-Nearest Neighbors"
   ]
  },
  {
   "cell_type": "code",
   "execution_count": null,
   "metadata": {
    "collapsed": true
   },
   "outputs": [],
   "source": [
    "# 2) Assemble predictions from the original classifiers\n",
    "# NOTE: It is important to follow the stacking order of the 'proba_all' dataframe!\n",
    "proba_all_new = np.c_[y0[:,1], y1[:,1], y2[:,1], y3[:,1], y4[:,1], \n",
    "                      y5[:,1], y6[:,1], y7[:,1], y8[:,1], y9[:,1]]"
   ]
  },
  {
   "cell_type": "markdown",
   "metadata": {},
   "source": [
    "####  with Logistic Regression"
   ]
  },
  {
   "cell_type": "code",
   "execution_count": null,
   "metadata": {
    "collapsed": false
   },
   "outputs": [],
   "source": [
    "# 3) Final prediction from the second stage classifier\n",
    "y_proba_predicted_logreg = grid_second.predict_proba(proba_all_new)\n",
    "y_proba_predicted_logreg.shape"
   ]
  },
  {
   "cell_type": "markdown",
   "metadata": {},
   "source": [
    "#### with Linear Regression"
   ]
  },
  {
   "cell_type": "code",
   "execution_count": null,
   "metadata": {
    "collapsed": false
   },
   "outputs": [],
   "source": [
    "# 3) Final prediction from the second stage classifier\n",
    "y_proba_predicted_linear = linear.predict(proba_all_new)\n",
    "y_proba_predicted_linear.shape"
   ]
  },
  {
   "cell_type": "markdown",
   "metadata": {},
   "source": [
    "#### with Extremely Randomized Trees"
   ]
  },
  {
   "cell_type": "code",
   "execution_count": null,
   "metadata": {
    "collapsed": false
   },
   "outputs": [],
   "source": [
    "# 3) Final prediction from the second stage regressor\n",
    "y_proba_predicted_trees = trees_second.predict_proba(proba_all_new)\n",
    "y_proba_predicted_trees.shape"
   ]
  },
  {
   "cell_type": "markdown",
   "metadata": {},
   "source": [
    "#### with Keras Network Classifier"
   ]
  },
  {
   "cell_type": "code",
   "execution_count": null,
   "metadata": {
    "collapsed": false
   },
   "outputs": [],
   "source": [
    "# 3) Final prediction from the second stage regressor\n",
    "y_proba_predicted_nn = model_blend.predict_proba(proba_all_new, batch_size=BATCH)\n",
    "y_proba_predicted_nn.shape"
   ]
  },
  {
   "cell_type": "markdown",
   "metadata": {},
   "source": [
    "#### Weighted Average of blendings"
   ]
  },
  {
   "cell_type": "code",
   "execution_count": null,
   "metadata": {
    "collapsed": false
   },
   "outputs": [],
   "source": [
    "proba_blended = np.c_[y_proba_predicted_logreg[:,1],  # from Logistic Regression\n",
    "                      y_proba_predicted_linear,       # from Linear Regression\n",
    "                      #y_proba_predicted_trees[:,1],   # from Extremly Randomised Trees\n",
    "                      #y_proba_predicted_dnn[:,1],     # from TensorFlow DNN\n",
    "                      y_proba_predicted_nn[:,1]]      # from Keras Network\n",
    "wsb = [1, 1, 1]\n",
    "\n",
    "mean_type = 'geometric'\n",
    "if mean_type == 'aritmetic':\n",
    "    # Aritmetic mean\n",
    "    y_proba_predicted = np.average(proba_blended, axis=1, weights=wsb)\n",
    "elif mean_type == 'geometric':\n",
    "    # Geometric mean\n",
    "    y_proba_predicted = np.zeros(proba_blended.shape[0])\n",
    "    for i in range(proba_blended.shape[0]):\n",
    "        y_proba_predicted[i] = np.exp(np.sum(wsb*np.log(proba_blended[i,:]))/np.sum(wsb))\n",
    "y_proba_predicted.shape"
   ]
  },
  {
   "cell_type": "markdown",
   "metadata": {},
   "source": [
    "### C) Using Stacking"
   ]
  },
  {
   "cell_type": "code",
   "execution_count": null,
   "metadata": {
    "collapsed": false
   },
   "outputs": [],
   "source": [
    "# 2) Assemble predictions from first-stage classifiers (10) and best original features (11)\n",
    "# Select best original features\n",
    "k_best = feature_selection.SelectKBest(feature_selection.f_classif, k=5)\n",
    "pca = PCA(n_components=6)\n",
    "# Make union of features\n",
    "union = FeatureUnion([('KBest',k_best), ('PCA',pca)])\n",
    "union.fit(X_train, y_train)\n",
    "# Transform predictions data set (tournament data)\n",
    "X_predict_best = union.transform(X_predict)\n",
    "\n",
    "# Stack best features (tournament data) and first-stage predictions (11+10=21)\n",
    "X_predict_stack = np.c_[X_predict_best, proba_all_new]"
   ]
  },
  {
   "cell_type": "markdown",
   "metadata": {},
   "source": [
    "#### with TensorFlow DNN Classifier"
   ]
  },
  {
   "cell_type": "code",
   "execution_count": null,
   "metadata": {
    "collapsed": false
   },
   "outputs": [],
   "source": [
    "# 3) Final prediction from the second stage classifier\n",
    "y_proba_predicted_dnn = model_dnn.predict_proba(X_predict_stack)\n",
    "y_proba_predicted_dnn.shape"
   ]
  },
  {
   "cell_type": "markdown",
   "metadata": {},
   "source": [
    "#### with Extremely Randomized Trees"
   ]
  },
  {
   "cell_type": "code",
   "execution_count": null,
   "metadata": {
    "collapsed": false
   },
   "outputs": [],
   "source": [
    "# 3) Final prediction from the second stage classifier\n",
    "y_proba_predicted_tree = stacker.predict_proba(X_predict_stack)\n",
    "y_proba_predicted_tree.shape"
   ]
  },
  {
   "cell_type": "markdown",
   "metadata": {},
   "source": [
    "#### with Keras Network (Merged branches)"
   ]
  },
  {
   "cell_type": "code",
   "execution_count": null,
   "metadata": {
    "collapsed": false
   },
   "outputs": [],
   "source": [
    "# 3) Final prediction from the second stage classifier\n",
    "y_proba_predicted_merge = model_stack.predict_proba([X_predict, proba_all_new], batch_size=BATCH)\n",
    "y_proba_predicted_merge.shape"
   ]
  },
  {
   "cell_type": "markdown",
   "metadata": {},
   "source": [
    "#### Weighted Average of stackings"
   ]
  },
  {
   "cell_type": "code",
   "execution_count": null,
   "metadata": {
    "collapsed": false
   },
   "outputs": [],
   "source": [
    "proba_stacked = np.c_[y_proba_predicted_dnn[:,1],    # from TenzorFlow DNN\n",
    "                      y_proba_predicted_tree[:,1],   # from Extremly randomized trees\n",
    "                      y_proba_predicted_merge[:,1]]  # from Keras Network\n",
    "wss = [1, 1, 1]\n",
    "\n",
    "mean_type = 'geometric'\n",
    "if mean_type == 'aritmetic':\n",
    "    # Aritmetic mean\n",
    "    y_proba_predicted = np.average(proba_stacked, axis=1, weights=wsb)\n",
    "elif mean_type == 'geometric':\n",
    "    # Geometric mean\n",
    "    y_proba_predicted = np.zeros(proba_stacked.shape[0])\n",
    "    for i in range(proba_stacked.shape[0]):\n",
    "        y_proba_predicted[i] = np.exp(np.sum(wss*np.log(proba_stacked[i,:]))/np.sum(wss))\n",
    "y_proba_predicted.shape"
   ]
  },
  {
   "cell_type": "markdown",
   "metadata": {},
   "source": [
    "### D) Using Weighted Average of predictions"
   ]
  },
  {
   "cell_type": "markdown",
   "metadata": {},
   "source": [
    "#### Aritmetic mean"
   ]
  },
  {
   "cell_type": "code",
   "execution_count": null,
   "metadata": {
    "collapsed": true
   },
   "outputs": [],
   "source": [
    "# Assemble all individual predictions (proba_all_new)\n",
    "ws = [3, 4, 2, 1, 1, 1, 2, 3, 1, 2]  # weights (10)\n",
    "y_proba_predicted = np.average(proba_all_new, axis=1, weights=ws)\n",
    "y_proba_predicted.shape"
   ]
  },
  {
   "cell_type": "markdown",
   "metadata": {},
   "source": [
    "#### Geometric mean"
   ]
  },
  {
   "cell_type": "code",
   "execution_count": null,
   "metadata": {
    "collapsed": true
   },
   "outputs": [],
   "source": [
    "y_proba_predicted = np.zeros(proba_all_new.shape[0])\n",
    "for i in range(proba_all_new.shape[0]):\n",
    "    y_proba_predicted[i] = np.exp(np.sum(ws*np.log(proba_all_new[i,:]))/np.sum(ws))\n",
    "y_proba_predicted.shape"
   ]
  },
  {
   "cell_type": "markdown",
   "metadata": {},
   "source": [
    "## Export preditions to csv"
   ]
  },
  {
   "cell_type": "code",
   "execution_count": null,
   "metadata": {
    "collapsed": false
   },
   "outputs": [],
   "source": [
    "# Save predictions to external file\n",
    "with open('predictions.csv', 'w') as fout:\n",
    "    print('\"t_id\",\"probability\"', file=fout)\n",
    "    for id_val, proba in zip(test_set.index, y_proba_predicted):\n",
    "        print(id_val, proba, sep=',', file=fout)"
   ]
  },
  {
   "cell_type": "code",
   "execution_count": null,
   "metadata": {
    "collapsed": true
   },
   "outputs": [],
   "source": []
  }
 ],
 "metadata": {
  "kernelspec": {
   "display_name": "Python [Root]",
   "language": "python",
   "name": "Python [Root]"
  },
  "language_info": {
   "codemirror_mode": {
    "name": "ipython",
    "version": 2
   },
   "file_extension": ".py",
   "mimetype": "text/x-python",
   "name": "python",
   "nbconvert_exporter": "python",
   "pygments_lexer": "ipython2",
   "version": "2.7.12"
  }
 },
 "nbformat": 4,
 "nbformat_minor": 0
}
